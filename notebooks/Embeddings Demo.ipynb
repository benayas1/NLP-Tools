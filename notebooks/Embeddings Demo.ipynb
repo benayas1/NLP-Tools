{
 "cells": [
  {
   "cell_type": "code",
   "execution_count": 1,
   "metadata": {},
   "outputs": [],
   "source": [
    "import sys\n",
    "import os\n",
    "import pandas as pd\n",
    "from sklearn.datasets import fetch_20newsgroups\n",
    "\n",
    "import warnings\n",
    "warnings.filterwarnings(\"ignore\")\n",
    "\n",
    "#sys.path.insert(0, os.path.abspath(os.path.join('nlp_library')))\n",
    "sys.path.insert(0, os.path.abspath(os.path.join('..')))\n",
    "import nlp.preprocessing as pre\n",
    "import nlp.embeddings as emb"
   ]
  },
  {
   "cell_type": "code",
   "execution_count": 2,
   "metadata": {},
   "outputs": [],
   "source": [
    "def get_pipeline():\n",
    "    config = {\n",
    "        'stop_words': True,\n",
    "        'lemmas':True\n",
    "    }\n",
    "    return pre.Pipeline(config)"
   ]
  },
  {
   "cell_type": "code",
   "execution_count": 4,
   "metadata": {},
   "outputs": [
    {
     "name": "stdout",
     "output_type": "stream",
     "text": [
      "{('sentence', 'test', 'spend'): 0, ('test', 'spend', 'cap', 'keyword'): 1, ('test', 'sentence', 'test', 'spend'): 2, ('sentence', 'test', 'spend', 'cap'): 3, ('spend', 'cap'): 4, ('test', 'sentence', 'test'): 5, ('test', 'spend', 'cap'): 6, ('sentence', 'test'): 7, 'spend': 8, 'test': 9, 'sentence': 10, ('test', 'sentence'): 11}\n",
      "['cap', 'spend cap']\n",
      "[[1. 1. 1. 1. 1. 1. 1. 1. 1. 1. 1. 1. 1. 1.]\n",
      " [0. 0. 0. 0. 1. 0. 0. 0. 1. 1. 1. 1. 1. 1.]]\n"
     ]
    }
   ],
   "source": [
    "texts = ['This is a test sentence about the test on spend cap keywords in the text.',\n",
    "         'And this is the second test sentence for the spend cap testing']\n",
    "\n",
    "pp = get_pipeline()\n",
    "pp.fit(texts)\n",
    "embeddings = emb.KeyWordsEmbeddings(top_k=3, mode='binary', key_words=['cap', 'spend cap'])\n",
    "embeddings.fit(pp)\n",
    "print(embeddings.top_keyword_vocab)\n",
    "print(embeddings.key_words)\n",
    "print(embeddings.transform(pp))"
   ]
  },
  {
   "cell_type": "code",
   "execution_count": 2,
   "metadata": {},
   "outputs": [
    {
     "name": "stderr",
     "output_type": "stream",
     "text": [
      "'wget' is not recognized as an internal or external command,\n",
      "operable program or batch file.\n"
     ]
    }
   ],
   "source": [
    "!wget http://nlp.stanford.edu/data/wordvecs/glove.6B.zip"
   ]
  },
  {
   "cell_type": "code",
   "execution_count": 5,
   "metadata": {},
   "outputs": [
    {
     "name": "stdout",
     "output_type": "stream",
     "text": [
      "{('sentence', 'test', 'spend'): 0, ('test', 'spend', 'cap', 'keyword'): 1, ('test', 'sentence', 'test', 'spend'): 2, ('sentence', 'test', 'spend', 'cap'): 3, ('spend', 'cap'): 4, ('test', 'sentence', 'test'): 5, ('test', 'spend', 'cap'): 6, ('sentence', 'test'): 7, 'spend': 8, 'test': 9, 'sentence': 10, ('test', 'sentence'): 11}\n",
      "['cap', 'spend cap']\n",
      "[[1. 1. 1. 1. 1. 1. 1. 1. 1. 1. 1. 1. 1. 1.]\n",
      " [0. 0. 0. 0. 1. 0. 0. 0. 1. 1. 1. 1. 1. 1.]]\n"
     ]
    }
   ],
   "source": [
    "config = {'top_k':3, 'mode':'binary', 'key_words':['cap', 'spend cap']}\n",
    "\n",
    "texts = ['This is a test sentence about the test on spend cap keywords in the text.',\n",
    "         'And this is the second test sentence for the spend cap testing']\n",
    "\n",
    "pp = get_pipeline()\n",
    "pp.fit(texts)\n",
    "embeddings = emb.KeyWordsEmbeddings()\n",
    "embeddings.set_params(**config)\n",
    "embeddings.fit(pp)\n",
    "print(embeddings.top_keyword_vocab)\n",
    "print(embeddings.key_words)\n",
    "print(embeddings.transform(pp))"
   ]
  },
  {
   "cell_type": "code",
   "execution_count": 6,
   "metadata": {},
   "outputs": [
    {
     "name": "stdout",
     "output_type": "stream",
     "text": [
      "{('sentence', 'test', 'spend'): 0, ('test', 'spend', 'cap', 'keyword'): 1, ('test', 'sentence', 'test', 'spend'): 2, ('sentence', 'test', 'spend', 'cap'): 3, ('spend', 'cap'): 4, ('test', 'sentence', 'test'): 5, ('test', 'spend', 'cap'): 6, ('sentence', 'test'): 7, 'spend': 8, 'test': 9, 'sentence': 10, ('test', 'sentence'): 11}\n",
      "['cap', 'spend cap']\n",
      "[[1. 1. 1. 1. 1. 1. 1. 1. 1. 1. 1. 1. 1. 1.]\n",
      " [0. 0. 0. 0. 1. 0. 0. 0. 1. 1. 1. 1. 1. 1.]]\n"
     ]
    }
   ],
   "source": [
    "config = {'top_k':3, 'mode':'binary', 'key_words':['cap', 'spend cap']}\n",
    "\n",
    "texts = ['This is a test sentence about the test on spend cap keywords in the text.',\n",
    "         'And this is the second test sentence for the spend cap testing']\n",
    "\n",
    "pp = get_pipeline()\n",
    "pp.fit(texts)\n",
    "embeddings = emb.KeyWordsEmbeddings(**config)\n",
    "#embeddings.set_params()\n",
    "embeddings.fit(pp)\n",
    "print(embeddings.top_keyword_vocab)\n",
    "print(embeddings.key_words)\n",
    "print(embeddings.transform(pp))"
   ]
  },
  {
   "cell_type": "code",
   "execution_count": 9,
   "metadata": {},
   "outputs": [],
   "source": [
    "import json\n",
    "with open('params_embedder.json', 'w') as outfile:\n",
    "    json.dump(config, outfile)"
   ]
  },
  {
   "cell_type": "code",
   "execution_count": 11,
   "metadata": {},
   "outputs": [],
   "source": [
    "import nlp.autoencoder as ae\n",
    "ae_params = {'layers':[64, 40, 30],\n",
    "             'verbose':False,\n",
    "             'n_epochs':50,\n",
    "             'batch_size':512,\n",
    "             'lr':1e-3,\n",
    "             'early_stopping':15,\n",
    "             'save_checkpoint':True}\n",
    "autoencoder = ae.Autoencoder(layers = [64, 40, 30],\n",
    "                             verbose=False, \n",
    "                             n_epochs=50,\n",
    "                             batch_size=512,\n",
    "                             lr = 1e-3,\n",
    "                             early_stopping = 15,\n",
    "                             save_checkpoint=True\n",
    "                            )\n",
    "with open('ae_params.json', 'w') as outfile:\n",
    "    json.dump(ae_params, outfile)"
   ]
  },
  {
   "cell_type": "code",
   "execution_count": null,
   "metadata": {},
   "outputs": [],
   "source": []
  }
 ],
 "metadata": {
  "kernelspec": {
   "display_name": "Python 3",
   "language": "python",
   "name": "python3"
  },
  "language_info": {
   "codemirror_mode": {
    "name": "ipython",
    "version": 3
   },
   "file_extension": ".py",
   "mimetype": "text/x-python",
   "name": "python",
   "nbconvert_exporter": "python",
   "pygments_lexer": "ipython3",
   "version": "3.8.5"
  },
  "toc": {
   "base_numbering": 1,
   "nav_menu": {},
   "number_sections": true,
   "sideBar": true,
   "skip_h1_title": false,
   "title_cell": "Table of Contents",
   "title_sidebar": "Contents",
   "toc_cell": false,
   "toc_position": {},
   "toc_section_display": true,
   "toc_window_display": false
  }
 },
 "nbformat": 4,
 "nbformat_minor": 4
}
