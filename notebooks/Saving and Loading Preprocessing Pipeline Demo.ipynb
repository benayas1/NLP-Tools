{
 "cells": [
  {
   "cell_type": "markdown",
   "metadata": {},
   "source": [
    "# Saving and Loading Preprocessing Pipeline Demo"
   ]
  },
  {
   "cell_type": "code",
   "execution_count": 1,
   "metadata": {},
   "outputs": [],
   "source": [
    "import sys\n",
    "import os\n",
    "import pandas as pd\n",
    "from sklearn.datasets import fetch_20newsgroups\n",
    "\n",
    "import warnings\n",
    "warnings.filterwarnings(\"ignore\")\n",
    "\n",
    "#sys.path.insert(0, os.path.abspath(os.path.join('nlp_library')))\n",
    "sys.path.insert(0, os.path.abspath(os.path.join('..')))\n",
    "import nlp.preprocessing as pre"
   ]
  },
  {
   "cell_type": "markdown",
   "metadata": {},
   "source": [
    "## Read Data"
   ]
  },
  {
   "cell_type": "code",
   "execution_count": 2,
   "metadata": {},
   "outputs": [
    {
     "data": {
      "text/html": [
       "<div>\n",
       "<style scoped>\n",
       "    .dataframe tbody tr th:only-of-type {\n",
       "        vertical-align: middle;\n",
       "    }\n",
       "\n",
       "    .dataframe tbody tr th {\n",
       "        vertical-align: top;\n",
       "    }\n",
       "\n",
       "    .dataframe thead th {\n",
       "        text-align: right;\n",
       "    }\n",
       "</style>\n",
       "<table border=\"1\" class=\"dataframe\">\n",
       "  <thead>\n",
       "    <tr style=\"text-align: right;\">\n",
       "      <th></th>\n",
       "      <th>text</th>\n",
       "    </tr>\n",
       "  </thead>\n",
       "  <tbody>\n",
       "    <tr>\n",
       "      <th>0</th>\n",
       "      <td>From: lerxst@wam.umd.edu (where's my thing)\\nS...</td>\n",
       "    </tr>\n",
       "    <tr>\n",
       "      <th>1</th>\n",
       "      <td>From: guykuo@carson.u.washington.edu (Guy Kuo)...</td>\n",
       "    </tr>\n",
       "    <tr>\n",
       "      <th>2</th>\n",
       "      <td>From: twillis@ec.ecn.purdue.edu (Thomas E Will...</td>\n",
       "    </tr>\n",
       "    <tr>\n",
       "      <th>3</th>\n",
       "      <td>From: jgreen@amber (Joe Green)\\nSubject: Re: W...</td>\n",
       "    </tr>\n",
       "    <tr>\n",
       "      <th>4</th>\n",
       "      <td>From: jcm@head-cfa.harvard.edu (Jonathan McDow...</td>\n",
       "    </tr>\n",
       "  </tbody>\n",
       "</table>\n",
       "</div>"
      ],
      "text/plain": [
       "                                                text\n",
       "0  From: lerxst@wam.umd.edu (where's my thing)\\nS...\n",
       "1  From: guykuo@carson.u.washington.edu (Guy Kuo)...\n",
       "2  From: twillis@ec.ecn.purdue.edu (Thomas E Will...\n",
       "3  From: jgreen@amber (Joe Green)\\nSubject: Re: W...\n",
       "4  From: jcm@head-cfa.harvard.edu (Jonathan McDow..."
      ]
     },
     "execution_count": 2,
     "metadata": {},
     "output_type": "execute_result"
    }
   ],
   "source": [
    "df = pd.DataFrame({'text':fetch_20newsgroups(subset='train')['data']}).iloc[:100]\n",
    "df.head()"
   ]
  },
  {
   "cell_type": "markdown",
   "metadata": {},
   "source": [
    "## Object Creation and Fit\n",
    "The class Pipeline is designed to be the central object of the preprocessing library.  "
   ]
  },
  {
   "cell_type": "code",
   "execution_count": 3,
   "metadata": {},
   "outputs": [
    {
     "name": "stdout",
     "output_type": "stream",
     "text": [
      "[('tok2vec', <spacy.pipeline.tok2vec.Tok2Vec object at 0x000001E856010720>), ('tagger', <spacy.pipeline.tagger.Tagger object at 0x000001E85603E590>), ('parser', <spacy.pipeline.dep_parser.DependencyParser object at 0x000001E855FE0880>), ('ner', <spacy.pipeline.ner.EntityRecognizer object at 0x000001E855FE0A00>), ('attribute_ruler', <spacy.pipeline.attributeruler.AttributeRuler object at 0x000001E8560595C0>), ('lemmatizer', <spacy.lang.en.lemmatizer.EnglishLemmatizer object at 0x000001E8560C3040>), ('custom_extension', <nlp.preprocessing._CustomExtension object at 0x000001E85559F5E0>)]\n"
     ]
    },
    {
     "data": {
      "application/vnd.jupyter.widget-view+json": {
       "model_id": "0483d694fa5944f88a1305607bed9a23",
       "version_major": 2,
       "version_minor": 0
      },
      "text/plain": [
       "HBox(children=(HTML(value='Running Spacy'), FloatProgress(value=0.0), HTML(value='')))"
      ]
     },
     "metadata": {},
     "output_type": "display_data"
    },
    {
     "name": "stdout",
     "output_type": "stream",
     "text": [
      "\n",
      "Number of documents processed 100\n",
      "From where 's my thing Subject WHAT car is this Nntp Posting Host Organization University of Maryland College Park Lines I was wondering if anyone out there could enlighten me on this car I saw the other day It was a door sports car looked to be from the late s/ early s. It was called a Bricklin The doors were really small In addition the front bumper was separate from the rest of the body This is all I know If anyone can tellme a model name engine specs years of production where this car is made history or whatever information you have on this funky looking car please e mail Thanks IL brought to you by your neighborhood \n"
     ]
    }
   ],
   "source": [
    "#############################################################\n",
    "# The configuration below defines the way we process the data.\n",
    "# Every line indicates a preprocessing action to perform.\n",
    "# Feel free to modify individual values from 'True' to 'False'\n",
    "\n",
    "config = {\n",
    "        'appos': True,\n",
    "        'slang': True,\n",
    "        'sep_digit_text': True,\n",
    "        'emoticons': False,\n",
    "        'emoticons_del': True,\n",
    "        'url': True, \n",
    "        'email': True,  # mask can be used\n",
    "        'html': True,\n",
    "        'proper_noun': True, # mask can be used\n",
    "        'phone_number': 'PHONE_NUMBER', # mask can be used\n",
    "        'repeated_chars': True,\n",
    "        'single_char': False,\n",
    "        'punct': True,\n",
    "        'number': True, # mask can be used\n",
    "        'extra_space': True,\n",
    "        'stop_words': False,\n",
    "        'lemmas': False\n",
    "    }\n",
    "\n",
    "#############################################################\n",
    "\n",
    "# Create preprocessing pipeline\n",
    "pp = pre.Pipeline(config, \n",
    "                  n_process=2, # Single process\n",
    "                  progress_bar=True # Display progress bar\n",
    "                 )\n",
    "print(pp)\n",
    "pp.fit(df['text'])\n",
    "print(f'Number of documents processed {len(pp)}')\n",
    "text0 = pp.text(0)\n",
    "print(text0)"
   ]
  },
  {
   "cell_type": "code",
   "execution_count": 5,
   "metadata": {},
   "outputs": [],
   "source": [
    "import json\n",
    "with open('config.json', 'w') as outfile:\n",
    "    json.dump(config, outfile)"
   ]
  },
  {
   "cell_type": "markdown",
   "metadata": {},
   "source": [
    "## Saving object"
   ]
  },
  {
   "cell_type": "code",
   "execution_count": 4,
   "metadata": {},
   "outputs": [],
   "source": [
    "pp.save('test.pkl')"
   ]
  },
  {
   "cell_type": "code",
   "execution_count": 5,
   "metadata": {},
   "outputs": [
    {
     "data": {
      "text/plain": [
       "True"
      ]
     },
     "execution_count": 5,
     "metadata": {},
     "output_type": "execute_result"
    }
   ],
   "source": [
    "# Check if after saving, the texts are still the same\n",
    "text1 = pp.text(0)\n",
    "text0 == text1"
   ]
  },
  {
   "cell_type": "code",
   "execution_count": 6,
   "metadata": {},
   "outputs": [
    {
     "name": "stdout",
     "output_type": "stream",
     "text": [
      "PHONE_NUMBER\n",
      "2\n",
      "False\n"
     ]
    }
   ],
   "source": [
    "# Checking a few attributes\n",
    "print(pp.phone_number)\n",
    "print(pp.n_process)\n",
    "print(pp.lemmas)"
   ]
  },
  {
   "cell_type": "code",
   "execution_count": 7,
   "metadata": {},
   "outputs": [],
   "source": [
    "# deleting pipeline object\n",
    "del pp"
   ]
  },
  {
   "cell_type": "markdown",
   "metadata": {},
   "source": [
    "## Load object"
   ]
  },
  {
   "cell_type": "code",
   "execution_count": 8,
   "metadata": {},
   "outputs": [
    {
     "name": "stdout",
     "output_type": "stream",
     "text": [
      "[('tok2vec', <spacy.pipeline.tok2vec.Tok2Vec object at 0x000001B453029220>), ('tagger', <spacy.pipeline.tagger.Tagger object at 0x000001B452D13180>), ('parser', <spacy.pipeline.dep_parser.DependencyParser object at 0x000001B458172340>), ('ner', <spacy.pipeline.ner.EntityRecognizer object at 0x000001B458172940>), ('attribute_ruler', <spacy.pipeline.attributeruler.AttributeRuler object at 0x000001B45319BAC0>), ('lemmatizer', <spacy.lang.en.lemmatizer.EnglishLemmatizer object at 0x000001B4530B7300>), ('custom_extension', <nlp.preprocessing._CustomExtension object at 0x000001B457E39070>)]\n"
     ]
    }
   ],
   "source": [
    "pp = pre.Pipeline.load('test.pkl')\n",
    "print(pp)"
   ]
  },
  {
   "cell_type": "code",
   "execution_count": 9,
   "metadata": {},
   "outputs": [
    {
     "name": "stdout",
     "output_type": "stream",
     "text": [
      "PHONE_NUMBER\n",
      "2\n",
      "False\n"
     ]
    }
   ],
   "source": [
    "# Checking a few attributes\n",
    "print(pp.phone_number)\n",
    "print(pp.n_process)\n",
    "print(pp.lemmas)"
   ]
  },
  {
   "cell_type": "code",
   "execution_count": 10,
   "metadata": {},
   "outputs": [
    {
     "data": {
      "text/plain": [
       "True"
      ]
     },
     "execution_count": 10,
     "metadata": {},
     "output_type": "execute_result"
    }
   ],
   "source": [
    "# Checking the texts are still the same\n",
    "text2 = pp.text(0)\n",
    "text0 == text1 == text2"
   ]
  },
  {
   "cell_type": "code",
   "execution_count": 8,
   "metadata": {},
   "outputs": [],
   "source": [
    "import nlp.embeddings as emb"
   ]
  },
  {
   "cell_type": "code",
   "execution_count": 11,
   "metadata": {},
   "outputs": [],
   "source": [
    "class_name = getattr(emb, 'BagOfPOSEmbeddings')"
   ]
  },
  {
   "cell_type": "code",
   "execution_count": 12,
   "metadata": {},
   "outputs": [
    {
     "data": {
      "text/plain": [
       "<nlp.embeddings.BagOfPOSEmbeddings at 0x1e85e1addc0>"
      ]
     },
     "execution_count": 12,
     "metadata": {},
     "output_type": "execute_result"
    }
   ],
   "source": [
    "obj = class_name()\n",
    "obj"
   ]
  },
  {
   "cell_type": "code",
   "execution_count": null,
   "metadata": {},
   "outputs": [],
   "source": []
  }
 ],
 "metadata": {
  "kernelspec": {
   "display_name": "Python 3",
   "language": "python",
   "name": "python3"
  },
  "language_info": {
   "codemirror_mode": {
    "name": "ipython",
    "version": 3
   },
   "file_extension": ".py",
   "mimetype": "text/x-python",
   "name": "python",
   "nbconvert_exporter": "python",
   "pygments_lexer": "ipython3",
   "version": "3.8.5"
  },
  "toc": {
   "base_numbering": 1,
   "nav_menu": {},
   "number_sections": true,
   "sideBar": true,
   "skip_h1_title": false,
   "title_cell": "Table of Contents",
   "title_sidebar": "Contents",
   "toc_cell": false,
   "toc_position": {},
   "toc_section_display": true,
   "toc_window_display": false
  }
 },
 "nbformat": 4,
 "nbformat_minor": 4
}
